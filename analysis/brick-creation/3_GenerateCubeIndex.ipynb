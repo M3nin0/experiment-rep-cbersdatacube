{
 "cells": [
  {
   "cell_type": "markdown",
   "metadata": {},
   "source": [
    "### 4. Generation of the spectral index cubes\n"
   ]
  },
  {
   "cell_type": "code",
   "execution_count": null,
   "metadata": {},
   "outputs": [],
   "source": [
    "import os\n",
    "import glob\n",
    "\n",
    "import numpy as np\n",
    "import pandas as pd\n",
    "\n",
    "import rasterio as rio\n",
    "import rep_cbers_cube.vegetation_index as vi\n",
    "\n",
    "from loguru import logger\n",
    "logger.add(\"logs/cube_vegetation_index_{time}.log\")"
   ]
  },
  {
   "cell_type": "markdown",
   "metadata": {},
   "source": [
    "**Parameters**"
   ]
  },
  {
   "cell_type": "code",
   "execution_count": null,
   "metadata": {
    "tags": [
     "parameters"
    ]
   },
   "outputs": [],
   "source": [
    "#\n",
    "# directory where cropped raster is in\n",
    "#\n",
    "input_raster_path = \"\"\n",
    "\n",
    "#\n",
    "# directory where vegetation index will be write\n",
    "#\n",
    "output_cubes_vegetation_index = \"\"\n",
    "\n",
    "#\n",
    "# other definitions\n",
    "#\n",
    "factor = 10000\n",
    "na_values = -9999\n"
   ]
  },
  {
   "cell_type": "markdown",
   "metadata": {},
   "source": [
    "**General configurations**"
   ]
  },
  {
   "cell_type": "code",
   "execution_count": null,
   "metadata": {},
   "outputs": [],
   "source": [
    "#\n",
    "# define cropped rasters\n",
    "#\n",
    "cropped_cubes = glob.glob(os.path.join(input_raster_path, \"*.tif\"))\n",
    "\n",
    "#\n",
    "# create output directory\n",
    "#\n",
    "os.makedirs(output_cubes_vegetation_index, exist_ok=True)\n"
   ]
  },
  {
   "cell_type": "markdown",
   "metadata": {},
   "source": [
    "**Temporal definitions**"
   ]
  },
  {
   "cell_type": "code",
   "execution_count": null,
   "metadata": {},
   "outputs": [],
   "source": [
    "#\n",
    "# extract start-end dates from cube timeline (Using filenames pattern)\n",
    "#\n",
    "start_date = list(map(lambda x: x.split('_')[-3], cropped_cubes))\n",
    "end_date   = list(map(lambda x: x.split('_')[-2], cropped_cubes))\n",
    "\n",
    "#\n",
    "# defining output object\n",
    "#\n",
    "results = {\n",
    "    'src_cube': [], \n",
    "    'dst_cube': [], \n",
    "    'start_date': start_date,\n",
    "    'end_date': end_date\n",
    "}"
   ]
  },
  {
   "cell_type": "markdown",
   "metadata": {},
   "source": [
    "**Generating the index cubes**\n",
    "\n",
    "The indexes `GEMI`, `GNDVI`, `NDWI2` and `PVR` are calculated"
   ]
  },
  {
   "cell_type": "code",
   "execution_count": null,
   "metadata": {},
   "outputs": [],
   "source": [
    "for cropped_cube in cropped_cubes:\n",
    "\n",
    "    \"\"\"\n",
    "    Band order:\n",
    "         'EVI', 'NDVI', 'BAND13', 'BAND14', 'BAND15', 'BAND16'\n",
    "    \"\"\"    \n",
    "    \n",
    "    logger.info(f\"Processing {cropped_cube}\")\n",
    "    \n",
    "    #\n",
    "    # general definitions (input/output pattern)\n",
    "    #\n",
    "    raster_out = os.path.split(cropped_cube)[-1]\n",
    "    raster_out = f\"{os.path.splitext(raster_out)[0]}_vegetation_index.tif\"\n",
    "    raster_out = os.path.join(output_cubes_vegetation_index, raster_out)\n",
    "    \n",
    "    results[\"src_cube\"].append(cropped_cube)\n",
    "    results[\"dst_cube\"].append(raster_out)\n",
    "\n",
    "    ds = rio.open(cropped_cube)\n",
    "    cubedata = ds.read() / factor\n",
    "    \n",
    "    #\n",
    "    # GEMI Index\n",
    "    #\n",
    "    gemi = vi.gemi(cubedata[4, :, :], cubedata[5, :, :])\n",
    "    \n",
    "    #\n",
    "    # GNDVI\n",
    "    #\n",
    "    gndvi = vi.gndvi(cubedata[5, :, :], cubedata[3, :, :])\n",
    "    \n",
    "    #\n",
    "    # NDWI2\n",
    "    #\n",
    "    ndwi2 = vi.ndwi2(cubedata[3, :, :], cubedata[5, :, :])\n",
    "    \n",
    "    #\n",
    "    # PVR\n",
    "    #\n",
    "    pvr = vi.pvr(cubedata[3, :, :], cubedata[4, :, :])\n",
    "    \n",
    "    ds_profile = ds.profile.copy()\n",
    "    ds_profile.update(dtype = 'int16', count = 4)\n",
    "    \n",
    "    #\n",
    "    # write brick\n",
    "    #\n",
    "    with rio.open(raster_out, 'w', **ds_profile) as vegetation_raster:\n",
    "        for band, idx in zip([gemi, gndvi, ndwi2, pvr], range(1, 5)):\n",
    "            vegetation_raster.write((band * factor).astype('int16'), idx)\n"
   ]
  },
  {
   "cell_type": "markdown",
   "metadata": {},
   "source": [
    "**Write bricks index**"
   ]
  },
  {
   "cell_type": "code",
   "execution_count": null,
   "metadata": {},
   "outputs": [],
   "source": [
    "pd.DataFrame(results).to_csv(\n",
    "        os.path.join(output_cubes_vegetation_index, \"cropped_cube_vegetationindex.csv\"), \n",
    "    index = False\n",
    ")"
   ]
  }
 ],
 "metadata": {
  "kernelspec": {
   "display_name": "Python 3",
   "language": "python",
   "name": "python3"
  },
  "language_info": {
   "codemirror_mode": {
    "name": "ipython",
    "version": 3
   },
   "file_extension": ".py",
   "mimetype": "text/x-python",
   "name": "python",
   "nbconvert_exporter": "python",
   "pygments_lexer": "ipython3",
   "version": "3.7.10"
  }
 },
 "nbformat": 4,
 "nbformat_minor": 4
}
