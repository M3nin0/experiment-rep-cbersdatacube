{
 "cells": [
  {
   "cell_type": "markdown",
   "metadata": {},
   "source": [
    "### 1. Creating GDAL Virtual Format files (GDAL-VRT)\n",
    "\n",
    "For the example of replicability of the work, another collection of data cubes produced in the **B**razil **D**ata **C**ube (BDC) project was used. This collection is from the same sensor used in the article, but with a new processing approach.\n",
    "\n",
    "To use this collection, different from what was done in the reproducibility example, here the data is being made available through the [STAC catalog of the BDC project](brazildatacube.dpi.inpe.br/stac/). This way, to make the manipulation simpler, the creation of GDAL-VRT files is done.\n",
    "\n",
    "> **GDAL-VRT** files allow declarations to be made about the data (e. g., storage, quantity, and which bands will be used from the raster data) without direct manipulations. In this context, their use is made to avoid unnecessary downloads."
   ]
  },
  {
   "cell_type": "markdown",
   "metadata": {},
   "source": [
    "**Parameters**\n",
    "\n",
    "This section contains the input parameters that can be specified with [papermill](https://papermill.readthedocs.io/en/latest/) to determine what will be processed by this notebook, and how this will be done. Below, the following variables are specified:\n",
    "\n",
    "- `vrt_out_path`: This notebook generates the data cubes VRTs. This parameter specify the directory where out path is written\n",
    "\n",
    "- `stac_file`: This notebook creates vrt using Spatio Temporal Asset Catalog (STAC). This parameter specify where stac file (with query results) is in."
   ]
  },
  {
   "cell_type": "code",
   "execution_count": null,
   "metadata": {
    "tags": [
     "parameters"
    ]
   },
   "outputs": [],
   "source": [
    "\n",
    "#\n",
    "# stac file with query results\n",
    "#\n",
    "stac_file = \"\"\n",
    "\n",
    "#\n",
    "# output directory\n",
    "#\n",
    "vrt_out_path = \"output/data/cubes_vrt/\"\n"
   ]
  },
  {
   "cell_type": "code",
   "execution_count": null,
   "metadata": {},
   "outputs": [],
   "source": [
    "import json\n",
    "from osgeo import gdal\n",
    "from rep_cbers_cube.extras import generate_multiple_vrt_from_stac_assets"
   ]
  },
  {
   "cell_type": "markdown",
   "metadata": {},
   "source": [
    "**Generation of VRT files**\n",
    "\n",
    "To generate the GDAL-VRT files, the `generate_multiple_vrt_from_stac_assets` auxiliary function was created, which automatically consumes the result of a STAC query and generates the VRT files.\n",
    "\n",
    "> The STAC query used is available in the JSON file, but it could be consumed directly from the BDC-STAC data.\n",
    "\n",
    "In the generated VRT files, multiple dimensions are being these related to `EVI`, `NDVI`, `Band 13`, `Band 14`, `Band 15`, `Band 16`.\n"
   ]
  },
  {
   "cell_type": "code",
   "execution_count": null,
   "metadata": {},
   "outputs": [],
   "source": [
    "#\n",
    "# load stac files\n",
    "#\n",
    "stac_static = json.load(\n",
    "    open(stac_file)\n",
    ")"
   ]
  },
  {
   "cell_type": "code",
   "execution_count": null,
   "metadata": {},
   "outputs": [],
   "source": [
    "#\n",
    "# defining bands extracted from data\n",
    "#\n",
    "eobands = [\n",
    "    'EVI', 'NDVI', 'BAND13', 'BAND14', 'BAND15', 'BAND16'\n",
    "]\n",
    "\n",
    "#\n",
    "# create the VRTs!\n",
    "#\n",
    "generate_multiple_vrt_from_stac_assets(\n",
    "    stac_static['features'],  eobands, vrt_out_path\n",
    ")"
   ]
  }
 ],
 "metadata": {
  "celltoolbar": "Tags",
  "kernelspec": {
   "display_name": "Python 3",
   "language": "python",
   "name": "python3"
  },
  "language_info": {
   "codemirror_mode": {
    "name": "ipython",
    "version": 3
   },
   "file_extension": ".py",
   "mimetype": "text/x-python",
   "name": "python",
   "nbconvert_exporter": "python",
   "pygments_lexer": "ipython3",
   "version": "3.7.10"
  }
 },
 "nbformat": 4,
 "nbformat_minor": 4
}
