{
 "cells": [
  {
   "cell_type": "markdown",
   "metadata": {},
   "source": [
    "### 2. Crop Region of interest\n",
    "\n",
    "In this notebook, the clipping process of the scenes extracted from the data cube to only the region of interest (ROI) is performed. The input file defines this ROI in ESRI Shapefile format.\n"
   ]
  },
  {
   "cell_type": "code",
   "execution_count": null,
   "metadata": {},
   "outputs": [],
   "source": [
    "import os\n",
    "import glob\n",
    "\n",
    "import pandas as pd\n",
    "import geopandas as gpd\n",
    "\n",
    "from loguru import logger\n",
    "from rep_cbers_cube.extras import mask_raster_by_extents\n",
    "\n",
    "logger.add(\"logs/cube_cropping_{time}.log\")"
   ]
  },
  {
   "cell_type": "markdown",
   "metadata": {},
   "source": [
    "**Parameters**"
   ]
  },
  {
   "cell_type": "code",
   "execution_count": null,
   "metadata": {
    "tags": [
     "parameters"
    ]
   },
   "outputs": [],
   "source": [
    "#\n",
    "# Define a geopackage file (and layer) with ROI extents\n",
    "#\n",
    "shp_directory  = \"\"\n",
    "shp_filename   = \"\"\n",
    "\n",
    "#\n",
    "# input and output configurations\n",
    "#\n",
    "input_vrts     = \"\"\n",
    "output_raster_path = \"\""
   ]
  },
  {
   "cell_type": "markdown",
   "metadata": {},
   "source": [
    "**Region of interest**\n",
    "\n",
    "As mentioned, the region of interest is defined as the place where samples are available, so the samples' bounding box is calculated.\n"
   ]
  },
  {
   "cell_type": "code",
   "execution_count": null,
   "metadata": {},
   "outputs": [],
   "source": [
    "#\n",
    "# ROI Geometry\n",
    "#\n",
    "roi_bounds = gpd.read_file(**{\n",
    "    \"filename\": os.path.join(shp_directory, shp_filename),\n",
    "}).geometry.total_bounds\n",
    "\n",
    "#\n",
    "# Raster VRTs\n",
    "#\n",
    "cube_vrts = glob.glob(os.path.normpath(f\"{input_vrts}/*.vrt\"))"
   ]
  },
  {
   "cell_type": "markdown",
   "metadata": {},
   "source": [
    "**Crop!**\n",
    "\n",
    "At this stage, the rasters are recalled. The whole process is done through the `mask_raster_by_extents` auxiliary function. It receives the VRT files and loads the data crop in the bounding box region.\n"
   ]
  },
  {
   "cell_type": "code",
   "execution_count": null,
   "metadata": {},
   "outputs": [],
   "source": [
    "for cube_vrt in cube_vrts:\n",
    "    logger.info(f\"Processing {cube_vrt}\")\n",
    "    \n",
    "    raster_out = os.path.split(cube_vrt)[-1]\n",
    "    raster_out = f\"{os.path.splitext(raster_out)[0]}_cropped.tif\"\n",
    "    raster_out = os.path.join(output_raster_path, raster_out)\n",
    "    \n",
    "    mask_raster_by_extents(cube_vrt, raster_out, roi_bounds)"
   ]
  },
  {
   "cell_type": "markdown",
   "metadata": {},
   "source": [
    "**Generate file index**"
   ]
  },
  {
   "cell_type": "code",
   "execution_count": null,
   "metadata": {},
   "outputs": [],
   "source": [
    "#\n",
    "# rasters files\n",
    "#\n",
    "cubes_cropped = glob.glob(os.path.join(output_raster_path, \"*.tif\"))\n",
    "\n",
    "start_date = list(map(lambda x: x.split('_')[-3], cubes_cropped))\n",
    "end_date   = list(map(lambda x: x.split('_')[-2], cubes_cropped))"
   ]
  },
  {
   "cell_type": "code",
   "execution_count": null,
   "metadata": {},
   "outputs": [],
   "source": [
    "#\n",
    "# create index and export to a CSV file\n",
    "#\n",
    "output_index_raster_path = os.path.join(output_raster_path, \"cropped_cube_timeindex.csv\")\n",
    "\n",
    "(\n",
    " pd.DataFrame({'cube': cubes_cropped, \n",
    "               'start_date': start_date, \n",
    "               'end_date': end_date}) \n",
    ").to_csv(output_index_raster_path, index = False)"
   ]
  }
 ],
 "metadata": {
  "celltoolbar": "Tags",
  "kernelspec": {
   "display_name": "Python 3",
   "language": "python",
   "name": "python3"
  },
  "language_info": {
   "codemirror_mode": {
    "name": "ipython",
    "version": 3
   },
   "file_extension": ".py",
   "mimetype": "text/x-python",
   "name": "python",
   "nbconvert_exporter": "python",
   "pygments_lexer": "ipython3",
   "version": "3.7.10"
  },
  "toc-showtags": false
 },
 "nbformat": 4,
 "nbformat_minor": 4
}
