{
 "cells": [
  {
   "cell_type": "markdown",
   "metadata": {},
   "source": [
    "### 4. Generate Bricks\n",
    "\n",
    "With all the results generated, the bricks are created. The structure of these is the same presented for the codes in R\n"
   ]
  },
  {
   "cell_type": "code",
   "execution_count": null,
   "metadata": {},
   "outputs": [],
   "source": [
    "import os\n",
    "import glob\n",
    "\n",
    "from rep_cbers_cube.bricks import generate_brick"
   ]
  },
  {
   "cell_type": "markdown",
   "metadata": {},
   "source": [
    "**Parameters**"
   ]
  },
  {
   "cell_type": "code",
   "execution_count": null,
   "metadata": {
    "tags": [
     "parameters"
    ]
   },
   "outputs": [],
   "source": [
    "#\n",
    "# Data Cube collection name\n",
    "#\n",
    "collection_name = \"\"\n",
    "\n",
    "#\n",
    "# directory where cube-brick will be write\n",
    "#\n",
    "output_cubebrick = \"\"\n",
    "\n",
    "#\n",
    "# directory where vegetation index is written\n",
    "#\n",
    "input_raster_vegetation_index = \"\"\n",
    "\n",
    "#\n",
    "# directory where bricks will is written\n",
    "#\n",
    "input_raster_path = \"\""
   ]
  },
  {
   "cell_type": "markdown",
   "metadata": {},
   "source": [
    "**General configurations**\n",
    "\n",
    "> For the bricks' generation, the available files are recovered and then organized by their **dates**. \n"
   ]
  },
  {
   "cell_type": "code",
   "execution_count": null,
   "metadata": {},
   "outputs": [],
   "source": [
    "#\n",
    "# cube brick bands\n",
    "#\n",
    "bands_bdc = ['EVI', 'NDVI', 'BAND13', 'BAND14', 'BAND15', 'BAND16']\n",
    "\n",
    "#\n",
    "# cube brick vegetation index\n",
    "#\n",
    "bands_vegetation_index = ['GEMI', 'GNDVI', 'NDWI2', 'PVR']"
   ]
  },
  {
   "cell_type": "code",
   "execution_count": null,
   "metadata": {},
   "outputs": [],
   "source": [
    "#\n",
    "# prepare cube brick using time-dimension (from filename pattern)\n",
    "#\n",
    "bdc_cubes = sorted(glob.glob(os.path.join(input_raster_path, \"*.tif\")), \n",
    "                   key = lambda x: x.split('_')[-3])\n",
    "\n",
    "#\n",
    "# prepare vegetation index using time-dimension (from filename pattern)\n",
    "#\n",
    "index_cubes = sorted(glob.glob(os.path.join(input_raster_vegetation_index, \"*.tif\")),\n",
    "                     key = lambda x: x.split('_')[-5])\n"
   ]
  },
  {
   "cell_type": "markdown",
   "metadata": {},
   "source": [
    "**Generating bricks**\n",
    "\n",
    "The generation of the bricks is done using the auxiliary function `generate_brick`.\n",
    "\n",
    "> The `generate_brick` function code was made based on the source code of the STACK method of the [EarthPy library](https://earthpy.readthedocs.io/en/latest/).\n"
   ]
  },
  {
   "cell_type": "code",
   "execution_count": null,
   "metadata": {},
   "outputs": [],
   "source": [
    "#\n",
    "# generate brick using BDC bands\n",
    "#\n",
    "generate_brick(bdc_cubes, bands_bdc, output_cubebrick, collection_name)\n",
    "\n",
    "#\n",
    "# generate brick using vegetation index\n",
    "#\n",
    "generate_brick(index_cubes, bands_vegetation_index, output_cubebrick, collection_name)"
   ]
  },
  {
   "cell_type": "markdown",
   "metadata": {},
   "source": [
    "**Saving bricks index**"
   ]
  },
  {
   "cell_type": "code",
   "execution_count": null,
   "metadata": {},
   "outputs": [],
   "source": [
    "bands = []\n",
    "bricks_index = []\n",
    "\n",
    "bands.extend(bands_bdc)\n",
    "bands.extend(bands_vegetation_index)\n",
    "\n",
    "for band in bands:\n",
    "    filename = f\"{collection_name}_{band}_brick.tif\"\n",
    "    bricks_index.append(os.path.join(output_cubebrick, filename))\n",
    "\n",
    "pd.DataFrame({\n",
    "    \"band\": bands,\n",
    "    \"filename\": bricks_index\n",
    "}).to_csv(os.path.join(output_cubebrick, \"cube_brick_index.csv\"), index = False)\n"
   ]
  }
 ],
 "metadata": {
  "kernelspec": {
   "display_name": "Python 3",
   "language": "python",
   "name": "python3"
  },
  "language_info": {
   "codemirror_mode": {
    "name": "ipython",
    "version": 3
   },
   "file_extension": ".py",
   "mimetype": "text/x-python",
   "name": "python",
   "nbconvert_exporter": "python",
   "pygments_lexer": "ipython3",
   "version": "3.7.10"
  }
 },
 "nbformat": 4,
 "nbformat_minor": 4
}
